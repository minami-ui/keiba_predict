{
 "cells": [
  {
   "cell_type": "markdown",
   "id": "b9173f82",
   "metadata": {},
   "source": [
    "# 概要（第21回）"
   ]
  },
  {
   "cell_type": "code",
   "execution_count": null,
   "id": "6f1ce279",
   "metadata": {},
   "outputs": [],
   "source": [
    "def split_data(df, test_size=0.3):\n",
    "    sorted_id_list = df.sort_values(\"date\").index.unique()\n",
    "    train_id_list = sorted_id_list[: round(len(sorted_id_list) * (1 - test_size))]\n",
    "    test_id_list = sorted_id_list[round(len(sorted_id_list) * (1 - test_size)) :]\n",
    "    train = df.loc[train_id_list]#.drop(['date'], axis=1)\n",
    "    test = df.loc[test_id_list]#.drop(['date'], axis=1)\n",
    "    return train, test\n",
    "    \n",
    "train, test = split_data(r.data_c)\n",
    "train, valid = split_data(train)"
   ]
  },
  {
   "cell_type": "markdown",
   "id": "d7feb219",
   "metadata": {},
   "source": [
    "準備ができたら、実際にチューニングを実行します"
   ]
  },
  {
   "cell_type": "code",
   "execution_count": 3,
   "id": "25f40042",
   "metadata": {},
   "outputs": [],
   "source": [
    "import optuna.integration.lightgbm as lgb_o\n",
    "\n",
    "#説明変数と目的変数に分ける\n",
    "X_train = train.drop(['rank', 'date'], axis=1)\n",
    "y_train = train['rank']\n",
    "X_valid = valid.drop(['rank', 'date'], axis=1)\n",
    "y_valid = valid['rank']\n",
    "X_test = test.drop(['rank', 'date'], axis=1)\n",
    "y_test = test['rank']\n",
    "\n",
    "# データセットの作成\n",
    "lgb_train = lgb_o.Dataset(X_train.values, y_train.values)\n",
    "lgb_valid = lgb_o.Dataset(X_valid.values, y_valid.values)\n",
    "\n",
    "#チューニング実行\n",
    "params = {\n",
    "    'objective': 'binary',\n",
    "    'random_state': 100\n",
    "}\n",
    "\n",
    "lgb_clf_o = lgb_o.train(params, lgb_train,\n",
    "                        valid_sets=(lgb_train, lgb_valid),\n",
    "                        verbose_eval=100,\n",
    "                        early_stopping_rounds=10)"
   ]
  },
  {
   "cell_type": "markdown",
   "id": "dc0edf57",
   "metadata": {},
   "source": [
    "完了したら、実際にこのパラメータを使って訓練します"
   ]
  },
  {
   "cell_type": "code",
   "execution_count": null,
   "id": "d1dd7cee",
   "metadata": {},
   "outputs": [],
   "source": [
    "#データの分け方を元に戻す\n",
    "train, test = split_data(r.data_c)\n",
    "X_train = train.drop(['rank', 'date'], axis=1)\n",
    "y_train = train['rank']\n",
    "X_test = test.drop(['rank', 'date'], axis=1)\n",
    "y_test = test['rank']\n",
    "\n",
    "#訓練\n",
    "lgb_clf = lgb.LGBMClassifier(**lgb_clf_o.params)\n",
    "lgb_clf.fit(X_train.values, y_train.values)\n",
    "\n",
    "#回収率シミュレーション\n",
    "me2 = ModelEvaluator(lgb_clf, return_tables)\n",
    "gain_optuna = gain(me2.tansho_return_proper, X_test)\n",
    "\n",
    "#回収率プロット\n",
    "import matplotlib.pyplot as plt\n",
    "\n",
    "plt.figure(dpi = 100) #動画と違いますが、この方が軸の文字なども拡大されます\n",
    "gain_proper.rename('proper').plot()\n",
    "gain_optuna.rename('optuna').plot()\n",
    "plt.grid()"
   ]
  },
  {
   "cell_type": "markdown",
   "id": "2a84b346",
   "metadata": {},
   "source": [
    "# 注意点"
   ]
  },
  {
   "cell_type": "code",
   "execution_count": null,
   "id": "3d27d9a6",
   "metadata": {},
   "outputs": [],
   "source": [
    "# 元々のパラメータ\n",
    "{\n",
    "    'objective': 'binary',\n",
    "    'random_state': 100,\n",
    "    'feature_pre_filter': False,\n",
    "    'lambda_l1': 0.00020915763049139397,\n",
    "    'lambda_l2': 0.0004315924345758067,\n",
    "    'num_leaves': 31,\n",
    "    'feature_fraction': 0.7,\n",
    "    'bagging_fraction': 1.0,\n",
    "    'bagging_freq': 0,\n",
    "    'min_child_samples': 100,\n",
    "    'num_iterations': 1000,\n",
    "    'early_stopping_round': 10\n",
    "}\n",
    "\n",
    "# 変更後\n",
    "params = {\n",
    "    'objective': 'binary',\n",
    "    'random_state': 100,\n",
    "    'feature_pre_filter': False,\n",
    "    'lambda_l1': 0.00020915763049139397,\n",
    "    'lambda_l2': 0.0004315924345758067,\n",
    "    'num_leaves': 31,\n",
    "    'feature_fraction': 0.7,\n",
    "    'bagging_fraction': 1.0,\n",
    "    'bagging_freq': 0,\n",
    "    'min_child_samples': 100\n",
    "}"
   ]
  },
  {
   "cell_type": "markdown",
   "id": "fdca88ca",
   "metadata": {},
   "source": [
    "# 概要（第22回）"
   ]
  },
  {
   "cell_type": "code",
   "execution_count": null,
   "id": "4f54cb4e",
   "metadata": {},
   "outputs": [],
   "source": []
  },
  {
   "cell_type": "code",
   "execution_count": null,
   "id": "243654ee",
   "metadata": {},
   "outputs": [],
   "source": []
  },
  {
   "cell_type": "code",
   "execution_count": null,
   "id": "ef83e88d",
   "metadata": {},
   "outputs": [],
   "source": []
  }
 ],
 "metadata": {
  "kernelspec": {
   "display_name": "Python 3",
   "language": "python",
   "name": "python3"
  },
  "language_info": {
   "codemirror_mode": {
    "name": "ipython",
    "version": 3
   },
   "file_extension": ".py",
   "mimetype": "text/x-python",
   "name": "python",
   "nbconvert_exporter": "python",
   "pygments_lexer": "ipython3",
   "version": "3.8.8"
  }
 },
 "nbformat": 4,
 "nbformat_minor": 5
}
