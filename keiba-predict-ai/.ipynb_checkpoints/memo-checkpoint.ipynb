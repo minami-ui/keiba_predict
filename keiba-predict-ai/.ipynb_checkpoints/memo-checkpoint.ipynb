{
 "cells": [
  {
   "cell_type": "markdown",
   "id": "27c8ffdc",
   "metadata": {},
   "source": [
    "メモ"
   ]
  },
  {
   "cell_type": "code",
   "execution_count": null,
   "id": "ca031f4c",
   "metadata": {},
   "outputs": [],
   "source": [
    "競馬条件で収集\n",
    "\n",
    "理想\n",
    "webブラウザ上で条件を指定して抽出したら結果が返ってくるものをつくる\n",
    "現実的に\n",
    "自分のローカル環境で動くようにする\n",
    "\n",
    "距離：\n",
    "馬場：\n"
   ]
  }
 ],
 "metadata": {
  "kernelspec": {
   "display_name": "Python 3",
   "language": "python",
   "name": "python3"
  },
  "language_info": {
   "codemirror_mode": {
    "name": "ipython",
    "version": 3
   },
   "file_extension": ".py",
   "mimetype": "text/x-python",
   "name": "python",
   "nbconvert_exporter": "python",
   "pygments_lexer": "ipython3",
   "version": "3.8.8"
  }
 },
 "nbformat": 4,
 "nbformat_minor": 5
}
