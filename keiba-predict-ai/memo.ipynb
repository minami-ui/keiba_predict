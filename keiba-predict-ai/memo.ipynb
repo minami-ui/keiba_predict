{
 "cells": [
  {
   "cell_type": "markdown",
   "id": "42a721b0",
   "metadata": {},
   "source": [
    "メモ"
   ]
  },
  {
   "cell_type": "markdown",
   "id": "c069b478",
   "metadata": {},
   "source": [
    "競馬条件で収集\n",
    "\n",
    "【理想】\n",
    "webブラウザ上で条件を指定して抽出したら結果が返ってくるものをつくる\n",
    "\n",
    "【現実的に】\n",
    "自分のローカル環境で動くようにする\n",
    "\n",
    "開催日：年単位(2021年のみ)or時期単位(夏のみ)\n",
    "開催場所：race_idの　2022/01/01/01/01 左から2つ目の数字\n",
    "距離：短距離、中距離、\n",
    "馬場タイプ：ダートor芝\n",
    "馬場：\n",
    "着順：とりあえず1着の馬を抽出できるように\n",
    "人気：\n",
    "単勝倍率："
   ]
  },
  {
   "cell_type": "markdown",
   "id": "edf4c958",
   "metadata": {},
   "source": [
    "人気：1番人気\n",
    "倍率：1.0-2.0\n",
    "\n",
    "上記条件の馬の1着の数/2020年の全レース"
   ]
  }
 ],
 "metadata": {
  "kernelspec": {
   "display_name": "Python 3",
   "language": "python",
   "name": "python3"
  },
  "language_info": {
   "codemirror_mode": {
    "name": "ipython",
    "version": 3
   },
   "file_extension": ".py",
   "mimetype": "text/x-python",
   "name": "python",
   "nbconvert_exporter": "python",
   "pygments_lexer": "ipython3",
   "version": "3.8.8"
  }
 },
 "nbformat": 4,
 "nbformat_minor": 5
}
