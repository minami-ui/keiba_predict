{
 "cells": [
  {
   "cell_type": "code",
   "execution_count": 1,
   "id": "39d4c8d6-1fff-4d2c-9551-3efa3ea5f0f2",
   "metadata": {},
   "outputs": [],
   "source": [
    "from urllib.request import urlopen\n",
    "from bs4 import BeautifulSoup\n",
    "import re\n",
    "import time\n",
    "import pandas as pd\n",
    "from tqdm.notebook import tqdm\n",
    "import numpy as np"
   ]
  },
  {
   "cell_type": "code",
   "execution_count": 2,
   "id": "f3b761dd-4d63-4a02-bd56-2e202feae65f",
   "metadata": {},
   "outputs": [],
   "source": [
    "import pandas as pd\n",
    "import numpy as np\n",
    "import datetime\n",
    "from tqdm.notebook import tqdm\n",
    "from sklearn.metrics import roc_auc_score\n",
    "from sklearn.preprocessing import LabelEncoder\n",
    "import lightgbm as lgb\n",
    "import requests\n",
    "from bs4 import BeautifulSoup\n",
    "import time\n",
    "from tqdm.notebook import tqdm\n",
    "import re\n",
    "from urllib.request import urlopen"
   ]
  },
  {
   "cell_type": "markdown",
   "id": "4f5276f9-c3b3-435a-9e61-cd2dd88edb70",
   "metadata": {},
   "source": [
    "# ロジスティック回帰で予想"
   ]
  },
  {
   "cell_type": "code",
   "execution_count": 3,
   "id": "b72b7b49-7163-4751-bb37-4cddc4014993",
   "metadata": {},
   "outputs": [],
   "source": [
    "race_results = pd.read_csv('race_results.csv',encoding=\"shift jis\",index_col=0)"
   ]
  },
  {
   "cell_type": "code",
   "execution_count": 4,
   "id": "569c9b90-1309-4101-8c83-d4e057df5c6a",
   "metadata": {},
   "outputs": [
    {
     "data": {
      "text/html": [
       "<div>\n",
       "<style scoped>\n",
       "    .dataframe tbody tr th:only-of-type {\n",
       "        vertical-align: middle;\n",
       "    }\n",
       "\n",
       "    .dataframe tbody tr th {\n",
       "        vertical-align: top;\n",
       "    }\n",
       "\n",
       "    .dataframe thead th {\n",
       "        text-align: right;\n",
       "    }\n",
       "</style>\n",
       "<table border=\"1\" class=\"dataframe\">\n",
       "  <thead>\n",
       "    <tr style=\"text-align: right;\">\n",
       "      <th></th>\n",
       "      <th>race_id</th>\n",
       "      <th>着順</th>\n",
       "      <th>枠番</th>\n",
       "      <th>馬番</th>\n",
       "      <th>馬名</th>\n",
       "      <th>斤量</th>\n",
       "      <th>騎手</th>\n",
       "      <th>タイム</th>\n",
       "      <th>上り</th>\n",
       "      <th>単勝</th>\n",
       "      <th>人気</th>\n",
       "      <th>性</th>\n",
       "      <th>年齢</th>\n",
       "      <th>体重</th>\n",
       "      <th>体重変化</th>\n",
       "    </tr>\n",
       "  </thead>\n",
       "  <tbody>\n",
       "    <tr>\n",
       "      <th>0</th>\n",
       "      <td>200801010101</td>\n",
       "      <td>1</td>\n",
       "      <td>4</td>\n",
       "      <td>6</td>\n",
       "      <td>ディアジーナ</td>\n",
       "      <td>54.0</td>\n",
       "      <td>四位洋文</td>\n",
       "      <td>1:31.0</td>\n",
       "      <td>35.6</td>\n",
       "      <td>4.3</td>\n",
       "      <td>2</td>\n",
       "      <td>牝</td>\n",
       "      <td>2</td>\n",
       "      <td>468</td>\n",
       "      <td>0</td>\n",
       "    </tr>\n",
       "    <tr>\n",
       "      <th>1</th>\n",
       "      <td>200801010101</td>\n",
       "      <td>2</td>\n",
       "      <td>8</td>\n",
       "      <td>14</td>\n",
       "      <td>アイディンパワー</td>\n",
       "      <td>54.0</td>\n",
       "      <td>藤田伸二</td>\n",
       "      <td>1:31.4</td>\n",
       "      <td>35.9</td>\n",
       "      <td>5.2</td>\n",
       "      <td>4</td>\n",
       "      <td>牡</td>\n",
       "      <td>2</td>\n",
       "      <td>460</td>\n",
       "      <td>0</td>\n",
       "    </tr>\n",
       "    <tr>\n",
       "      <th>2</th>\n",
       "      <td>200801010101</td>\n",
       "      <td>3</td>\n",
       "      <td>1</td>\n",
       "      <td>1</td>\n",
       "      <td>ウインリーズン</td>\n",
       "      <td>54.0</td>\n",
       "      <td>安藤勝己</td>\n",
       "      <td>1:31.5</td>\n",
       "      <td>36.4</td>\n",
       "      <td>3.1</td>\n",
       "      <td>1</td>\n",
       "      <td>牡</td>\n",
       "      <td>2</td>\n",
       "      <td>442</td>\n",
       "      <td>2</td>\n",
       "    </tr>\n",
       "    <tr>\n",
       "      <th>3</th>\n",
       "      <td>200801010101</td>\n",
       "      <td>4</td>\n",
       "      <td>7</td>\n",
       "      <td>11</td>\n",
       "      <td>ヴァンエボン</td>\n",
       "      <td>54.0</td>\n",
       "      <td>小林徹弥</td>\n",
       "      <td>1:31.6</td>\n",
       "      <td>35.5</td>\n",
       "      <td>23.0</td>\n",
       "      <td>8</td>\n",
       "      <td>牡</td>\n",
       "      <td>2</td>\n",
       "      <td>482</td>\n",
       "      <td>-4</td>\n",
       "    </tr>\n",
       "    <tr>\n",
       "      <th>4</th>\n",
       "      <td>200801010101</td>\n",
       "      <td>5</td>\n",
       "      <td>2</td>\n",
       "      <td>2</td>\n",
       "      <td>ラヴェリータ</td>\n",
       "      <td>54.0</td>\n",
       "      <td>長谷川浩</td>\n",
       "      <td>1:31.6</td>\n",
       "      <td>35.7</td>\n",
       "      <td>21.9</td>\n",
       "      <td>6</td>\n",
       "      <td>牝</td>\n",
       "      <td>2</td>\n",
       "      <td>484</td>\n",
       "      <td>-20</td>\n",
       "    </tr>\n",
       "    <tr>\n",
       "      <th>...</th>\n",
       "      <td>...</td>\n",
       "      <td>...</td>\n",
       "      <td>...</td>\n",
       "      <td>...</td>\n",
       "      <td>...</td>\n",
       "      <td>...</td>\n",
       "      <td>...</td>\n",
       "      <td>...</td>\n",
       "      <td>...</td>\n",
       "      <td>...</td>\n",
       "      <td>...</td>\n",
       "      <td>...</td>\n",
       "      <td>...</td>\n",
       "      <td>...</td>\n",
       "      <td>...</td>\n",
       "    </tr>\n",
       "    <tr>\n",
       "      <th>6</th>\n",
       "      <td>202110040812</td>\n",
       "      <td>7</td>\n",
       "      <td>2</td>\n",
       "      <td>2</td>\n",
       "      <td>ジオルティ</td>\n",
       "      <td>51.0</td>\n",
       "      <td>角田大和</td>\n",
       "      <td>2:42.0</td>\n",
       "      <td>35.3</td>\n",
       "      <td>49.6</td>\n",
       "      <td>10</td>\n",
       "      <td>牡</td>\n",
       "      <td>3</td>\n",
       "      <td>502</td>\n",
       "      <td>8</td>\n",
       "    </tr>\n",
       "    <tr>\n",
       "      <th>7</th>\n",
       "      <td>202110040812</td>\n",
       "      <td>8</td>\n",
       "      <td>7</td>\n",
       "      <td>9</td>\n",
       "      <td>ロックグラス</td>\n",
       "      <td>57.0</td>\n",
       "      <td>幸英明</td>\n",
       "      <td>2:42.2</td>\n",
       "      <td>35.8</td>\n",
       "      <td>43.7</td>\n",
       "      <td>8</td>\n",
       "      <td>牡</td>\n",
       "      <td>4</td>\n",
       "      <td>464</td>\n",
       "      <td>0</td>\n",
       "    </tr>\n",
       "    <tr>\n",
       "      <th>8</th>\n",
       "      <td>202110040812</td>\n",
       "      <td>9</td>\n",
       "      <td>7</td>\n",
       "      <td>8</td>\n",
       "      <td>サマーカナロア</td>\n",
       "      <td>53.0</td>\n",
       "      <td>富田暁</td>\n",
       "      <td>2:42.2</td>\n",
       "      <td>35.4</td>\n",
       "      <td>46.5</td>\n",
       "      <td>9</td>\n",
       "      <td>牡</td>\n",
       "      <td>3</td>\n",
       "      <td>502</td>\n",
       "      <td>-10</td>\n",
       "    </tr>\n",
       "    <tr>\n",
       "      <th>9</th>\n",
       "      <td>202110040812</td>\n",
       "      <td>10</td>\n",
       "      <td>8</td>\n",
       "      <td>10</td>\n",
       "      <td>レッドレイル</td>\n",
       "      <td>57.0</td>\n",
       "      <td>浜中俊</td>\n",
       "      <td>2:42.4</td>\n",
       "      <td>36.3</td>\n",
       "      <td>14.0</td>\n",
       "      <td>6</td>\n",
       "      <td>セ</td>\n",
       "      <td>5</td>\n",
       "      <td>436</td>\n",
       "      <td>2</td>\n",
       "    </tr>\n",
       "    <tr>\n",
       "      <th>10</th>\n",
       "      <td>202110040812</td>\n",
       "      <td>11</td>\n",
       "      <td>6</td>\n",
       "      <td>7</td>\n",
       "      <td>ニシノトランザム</td>\n",
       "      <td>57.0</td>\n",
       "      <td>西村淳也</td>\n",
       "      <td>2:42.6</td>\n",
       "      <td>36.9</td>\n",
       "      <td>82.5</td>\n",
       "      <td>11</td>\n",
       "      <td>セ</td>\n",
       "      <td>6</td>\n",
       "      <td>486</td>\n",
       "      <td>-2</td>\n",
       "    </tr>\n",
       "  </tbody>\n",
       "</table>\n",
       "<p>686065 rows × 15 columns</p>\n",
       "</div>"
      ],
      "text/plain": [
       "         race_id  着順  枠番  馬番        馬名    斤量    騎手     タイム    上り    単勝  人気  性  \\\n",
       "0   200801010101   1   4   6    ディアジーナ  54.0  四位洋文  1:31.0  35.6   4.3   2  牝   \n",
       "1   200801010101   2   8  14  アイディンパワー  54.0  藤田伸二  1:31.4  35.9   5.2   4  牡   \n",
       "2   200801010101   3   1   1   ウインリーズン  54.0  安藤勝己  1:31.5  36.4   3.1   1  牡   \n",
       "3   200801010101   4   7  11    ヴァンエボン  54.0  小林徹弥  1:31.6  35.5  23.0   8  牡   \n",
       "4   200801010101   5   2   2    ラヴェリータ  54.0  長谷川浩  1:31.6  35.7  21.9   6  牝   \n",
       "..           ...  ..  ..  ..       ...   ...   ...     ...   ...   ...  .. ..   \n",
       "6   202110040812   7   2   2     ジオルティ  51.0  角田大和  2:42.0  35.3  49.6  10  牡   \n",
       "7   202110040812   8   7   9    ロックグラス  57.0   幸英明  2:42.2  35.8  43.7   8  牡   \n",
       "8   202110040812   9   7   8   サマーカナロア  53.0   富田暁  2:42.2  35.4  46.5   9  牡   \n",
       "9   202110040812  10   8  10    レッドレイル  57.0   浜中俊  2:42.4  36.3  14.0   6  セ   \n",
       "10  202110040812  11   6   7  ニシノトランザム  57.0  西村淳也  2:42.6  36.9  82.5  11  セ   \n",
       "\n",
       "    年齢   体重  体重変化  \n",
       "0    2  468     0  \n",
       "1    2  460     0  \n",
       "2    2  442     2  \n",
       "3    2  482    -4  \n",
       "4    2  484   -20  \n",
       "..  ..  ...   ...  \n",
       "6    3  502     8  \n",
       "7    4  464     0  \n",
       "8    3  502   -10  \n",
       "9    5  436     2  \n",
       "10   6  486    -2  \n",
       "\n",
       "[686065 rows x 15 columns]"
      ]
     },
     "execution_count": 4,
     "metadata": {},
     "output_type": "execute_result"
    }
   ],
   "source": [
    "race_results"
   ]
  },
  {
   "cell_type": "code",
   "execution_count": 5,
   "id": "d3584d10-6b62-44b7-b27f-ce8d12a7a5d5",
   "metadata": {},
   "outputs": [],
   "source": [
    "from sklearn.model_selection import train_test_split\n",
    "from imblearn.under_sampling import RandomUnderSampler\n",
    "from sklearn.linear_model import LogisticRegression"
   ]
  },
  {
   "cell_type": "markdown",
   "id": "cdfde998-5d9c-481d-95ae-8054c6696cc7",
   "metadata": {},
   "source": [
    "- アンダーサンプリング\n",
    "    - 今回のようにrank=4のデータが多いと、モデルが4を予測すれば高精度になるのであまりいいモデルとは言えないものができてしまう\n",
    "    - データの量をそろえて行うことで精度を上げる方法"
   ]
  },
  {
   "cell_type": "code",
   "execution_count": 6,
   "id": "663ccf6b-cc34-4442-a111-988cf50a5afb",
   "metadata": {},
   "outputs": [],
   "source": [
    "#4着以下を全て4にする\n",
    "clip_rank = lambda x: x if x<4 else 4\n",
    "race_results['rank'] = race_results['着順'].map(clip_rank)\n",
    "#不要なカラムを削除\n",
    "race_results.drop(['着順','馬名','タイム','上り'], axis=1, inplace=True)\n",
    "#カテゴリ変数をダミー変数化\n",
    "race_results_d = pd.get_dummies(race_results)"
   ]
  },
  {
   "cell_type": "code",
   "execution_count": 7,
   "id": "2a79ed29-8b62-4343-9fb7-fe70f87af529",
   "metadata": {},
   "outputs": [],
   "source": [
    "#訓練データとテストデータに分ける\n",
    "X = race_results_2021_d.drop([\"rank\"], axis=1)\n",
    "y = race_results_2021_d[\"rank\"]\n",
    "X_train, X_test, y_train, y_test = train_test_split(\n",
    "    X, y, stratify=y, test_size=0.3, random_state=0\n",
    ")"
   ]
  },
  {
   "cell_type": "code",
   "execution_count": 8,
   "id": "34dfd403-e46d-4579-b9f6-2ae0a70550b1",
   "metadata": {},
   "outputs": [],
   "source": [
    "#アンダーサンプリング\n",
    "rank_1 = y_train.value_counts()[1]\n",
    "rank_2 = y_train.value_counts()[2]\n",
    "rank_3 = y_train.value_counts()[3]\n",
    "\n",
    "rus = RandomUnderSampler(\n",
    "    sampling_strategy={1: rank_1, 2: rank_2, 3: rank_3, 4: rank_1},\n",
    "    random_state=71\n",
    ")\n",
    "\n",
    "X_train_rus, y_train_rus = rus.fit_resample(X_train.values, y_train.values)"
   ]
  },
  {
   "cell_type": "code",
   "execution_count": 9,
   "id": "66e43713-80ef-48f9-8dde-e265c06e7c7b",
   "metadata": {},
   "outputs": [
    {
     "name": "stdout",
     "output_type": "stream",
     "text": [
      "0.7814521710348148 0.78143649512041\n"
     ]
    }
   ],
   "source": [
    "#訓練\n",
    "model = LogisticRegression()\n",
    "model.fit(X_train_rus, y_train_rus)\n",
    "\n",
    "#スコアを表示\n",
    "print(model.score(X_train, y_train), model.score(X_test, y_test))"
   ]
  },
  {
   "cell_type": "code",
   "execution_count": 10,
   "id": "0af351bb-b614-4a4c-b4b0-9109c611c19b",
   "metadata": {},
   "outputs": [
    {
     "data": {
      "text/plain": [
       "Series([], Name: actual, dtype: int64)"
      ]
     },
     "execution_count": 10,
     "metadata": {},
     "output_type": "execute_result"
    }
   ],
   "source": [
    "#予測結果を確認\n",
    "y_pred = model.predict(X_test)\n",
    "pred_df = pd.DataFrame({\"pred\": y_pred, \"actual\": y_test})\n",
    "pred_df[pred_df[\"pred\"] == 1][\"actual\"].value_counts()"
   ]
  },
  {
   "cell_type": "code",
   "execution_count": 11,
   "id": "88352973-fcfc-406c-92ed-e7e9d48f7c9a",
   "metadata": {},
   "outputs": [
    {
     "data": {
      "text/plain": [
       "枠番      2.499574e-24\n",
       "馬番     -4.807340e-25\n",
       "斤量      6.018829e-24\n",
       "単勝     -9.858802e-22\n",
       "人気     -9.695998e-23\n",
       "年齢     -4.755252e-24\n",
       "体重      1.484160e-22\n",
       "体重変化    8.101444e-24\n",
       "dtype: float64"
      ]
     },
     "execution_count": 11,
     "metadata": {},
     "output_type": "execute_result"
    }
   ],
   "source": [
    "#回帰係数の確認\n",
    "coefs = pd.Series(model.coef_[0], index=X.columns).sort_values()\n",
    "coefs[[\"枠番\", \"馬番\", \"斤量\", \"単勝\", \"人気\", \"年齢\", \"体重\", \"体重変化\"]]"
   ]
  },
  {
   "cell_type": "markdown",
   "id": "032898eb-91e0-406f-80cc-a62396b0d9f8",
   "metadata": {},
   "source": [
    "# ランダムフォレストで予想"
   ]
  },
  {
   "cell_type": "code",
   "execution_count": 12,
   "id": "49af81e2-1b8f-4cb7-a9ec-1a378da841ab",
   "metadata": {},
   "outputs": [],
   "source": [
    "from imblearn.under_sampling import RandomUnderSampler\n",
    "from sklearn.ensemble import RandomForestClassifier"
   ]
  },
  {
   "cell_type": "code",
   "execution_count": 13,
   "id": "fadbc867-a5d9-4324-9aa5-0cc62cda01a8",
   "metadata": {},
   "outputs": [],
   "source": [
    "race_infos_2021 = pd.read_csv('2021race_infos.csv',encoding=\"shift jis\",index_col=0)\n",
    "race_results_2021 = pd.read_csv('2021race_results.csv',encoding=\"shift jis\",index_col=0)"
   ]
  },
  {
   "cell_type": "code",
   "execution_count": 14,
   "id": "d16340a4-1c2c-46bd-ba8a-919de6cc777f",
   "metadata": {},
   "outputs": [],
   "source": [
    "#レース結果とレース情報をjoinする\n",
    "race_results_infos= race_results_2021.merge(race_infos_2021, on='race_id', how='inner')"
   ]
  },
  {
   "cell_type": "code",
   "execution_count": 15,
   "id": "a65d6ad8-1d0f-4f13-8bb6-94cfa62c51a3",
   "metadata": {},
   "outputs": [],
   "source": [
    "#データフレームの日付の型を変更する\n",
    "race_results_infos[\"date\"] = pd.to_datetime(race_results_infos[\"date\"], format=\"%Y年%m月%d日\")"
   ]
  },
  {
   "cell_type": "code",
   "execution_count": 16,
   "id": "aa8477e8-f278-45ec-8c98-fad0a1d51751",
   "metadata": {},
   "outputs": [],
   "source": [
    "#時系列に沿ってデータを分割\n",
    "def split_data(df, test_size):\n",
    "    sorted_id_list = race_results_infos.sort_values(\"date\").index.unique()\n",
    "    train_id_list = sorted_id_list[: round(len(sorted_id_list) * (1 - test_size))]\n",
    "    test_id_list = sorted_id_list[round(len(sorted_id_list) * (1 - test_size)) :]\n",
    "    train = df.loc[train_id_list]\n",
    "    test = df.loc[test_id_list]\n",
    "    return train, test"
   ]
  },
  {
   "cell_type": "code",
   "execution_count": 17,
   "id": "f92a1686-3081-43aa-8e70-dd3d0063de06",
   "metadata": {},
   "outputs": [],
   "source": [
    "race_results_infos.drop([\"馬名\"], axis=1, inplace=True)\n",
    "race_results_infos_d = pd.get_dummies(race_results_infos)\n",
    "race_results_infos_d[\"rank\"] = race_results_infos_d[\"着順\"].map(lambda x: x if x < 4 else 4)\n",
    "train, test = split_data(race_results_infos_d, test_size=0.3)\n",
    "X_train = train.drop([\"着順\", \"date\", \"rank\"], axis=1)\n",
    "y_train = train[\"rank\"]\n",
    "X_test = test.drop([\"着順\", \"date\", \"rank\"], axis=1)\n",
    "y_test = test[\"rank\"]"
   ]
  },
  {
   "cell_type": "code",
   "execution_count": 18,
   "id": "a74bc1ec-8c35-4e72-9c7e-40cac45d1bae",
   "metadata": {},
   "outputs": [],
   "source": [
    "#アンダーサンプリング\n",
    "\n",
    "rank_1 = train[\"rank\"].value_counts()[1]\n",
    "rank_2 = train[\"rank\"].value_counts()[2]\n",
    "rank_3 = train[\"rank\"].value_counts()[3]\n",
    "rus = RandomUnderSampler(\n",
    "    sampling_strategy={1: rank_1, 2: rank_2, 3: rank_3, 4: rank_1}, random_state=71\n",
    ")\n",
    "\n",
    "X_train_rus, y_train_rus = rus.fit_resample(X_train, y_train)"
   ]
  },
  {
   "cell_type": "code",
   "execution_count": 19,
   "id": "45bcf15e-5afa-4e4f-9ea1-e6a411fadb59",
   "metadata": {},
   "outputs": [
    {
     "name": "stdout",
     "output_type": "stream",
     "text": [
      "0.7629952871356258 0.5927343813635253\n"
     ]
    }
   ],
   "source": [
    "#ランダムフォレストによる予測\n",
    "\n",
    "clf = RandomForestClassifier(random_state=0)\n",
    "clf.fit(X_train_rus, y_train_rus)\n",
    "print(clf.score(X_train, y_train), clf.score(X_test, y_test))"
   ]
  }
 ],
 "metadata": {
  "kernelspec": {
   "display_name": "Python 3",
   "language": "python",
   "name": "python3"
  },
  "language_info": {
   "codemirror_mode": {
    "name": "ipython",
    "version": 3
   },
   "file_extension": ".py",
   "mimetype": "text/x-python",
   "name": "python",
   "nbconvert_exporter": "python",
   "pygments_lexer": "ipython3",
   "version": "3.8.8"
  }
 },
 "nbformat": 4,
 "nbformat_minor": 5
}
